{
 "cells": [
  {
   "cell_type": "code",
   "execution_count": 1,
   "metadata": {},
   "outputs": [
    {
     "name": "stdout",
     "output_type": "stream",
     "text": [
      "['Chicken', 'Onions', 'Tomatoes', 'Cooking Oil', 'Royco']\n"
     ]
    }
   ],
   "source": [
    "grocery_list = [\"Chicken\", \"Onions\", \"Tomatoes\", \"Cooking Oil\", \"Royco\"]\n",
    "print(grocery_list)"
   ]
  },
  {
   "cell_type": "code",
   "execution_count": 5,
   "metadata": {},
   "outputs": [
    {
     "name": "stdout",
     "output_type": "stream",
     "text": [
      "['Jurugo Brian', 'jurugobrian@gmail.com', '30', '20.56', ['Antonio', 'Loum', '1.3']]\n"
     ]
    }
   ],
   "source": [
    "mixed_list = [\"Jurugo Brian\", \"jurugobrian@gmail.com\", \"30\", \"20.56\", [\"Antonio\", \"Loum\", \"1.3\"]]\n",
    "print(mixed_list)"
   ]
  },
  {
   "cell_type": "code",
   "execution_count": 6,
   "metadata": {},
   "outputs": [
    {
     "name": "stdout",
     "output_type": "stream",
     "text": [
      "Jurugo Brian\n",
      "jurugobrian@gmail.com\n",
      "30\n",
      "20.56\n",
      "['Antonio', 'Loum', '1.3']\n"
     ]
    }
   ],
   "source": [
    "for item in mixed_list:\n",
    "    print(item)"
   ]
  },
  {
   "cell_type": "code",
   "execution_count": 7,
   "metadata": {},
   "outputs": [
    {
     "name": "stdout",
     "output_type": "stream",
     "text": [
      "['Jurugo Brian', 'jurugobrian@gmail.com', '30', ['Judith', 'Arinitwe'], ['Antonio', 'Loum', '1.3']]\n"
     ]
    }
   ],
   "source": [
    "mixed_list[3] = [\"Judith\", \"Arinitwe\"]\n",
    "print(mixed_list)"
   ]
  },
  {
   "cell_type": "code",
   "execution_count": 8,
   "metadata": {},
   "outputs": [
    {
     "data": {
      "text/plain": [
       "True"
      ]
     },
     "execution_count": 8,
     "metadata": {},
     "output_type": "execute_result"
    }
   ],
   "source": [
    "\"Jurugo Brian\" in mixed_list"
   ]
  },
  {
   "cell_type": "code",
   "execution_count": 9,
   "metadata": {},
   "outputs": [
    {
     "data": {
      "text/plain": [
       "False"
      ]
     },
     "execution_count": 9,
     "metadata": {},
     "output_type": "execute_result"
    }
   ],
   "source": [
    "\"AK Mbuga\" in mixed_list"
   ]
  },
  {
   "cell_type": "code",
   "execution_count": 11,
   "metadata": {},
   "outputs": [
    {
     "name": "stdout",
     "output_type": "stream",
     "text": [
      "[0, 1, 2, 3, 4, 5, 6, 7, 8, 9]\n"
     ]
    }
   ],
   "source": [
    "first_numbers = [0, 1, 2, 3, 4]\n",
    "second_numbers = [5, 6, 7, 8, 9]\n",
    "print(first_numbers + second_numbers)"
   ]
  },
  {
   "cell_type": "code",
   "execution_count": 13,
   "metadata": {},
   "outputs": [
    {
     "name": "stdout",
     "output_type": "stream",
     "text": [
      "[10, 11, 12, 13, 14, 15]\n",
      "[10, 11, 12, 13, 14, 15, 10, 11, 12, 13, 14, 15, 10, 11, 12, 13, 14, 15]\n"
     ]
    }
   ],
   "source": [
    "third_numbers = [10, 11, 12, 13, 14, 15]\n",
    "print(third_numbers)\n",
    "fourth_numbers = third_numbers * 3\n",
    "print(fourth_numbers)"
   ]
  },
  {
   "cell_type": "code",
   "execution_count": 19,
   "metadata": {},
   "outputs": [
    {
     "name": "stdout",
     "output_type": "stream",
     "text": [
      "['Jurugo Brian', 'jurugobrian@gmail.com', '30']\n"
     ]
    }
   ],
   "source": [
    "shorter_list = mixed_list[0:3]\n",
    "print(shorter_list)"
   ]
  },
  {
   "cell_type": "code",
   "execution_count": 22,
   "metadata": {},
   "outputs": [
    {
     "name": "stdout",
     "output_type": "stream",
     "text": [
      "['a', 'e', 'i', 'o', 'u']\n"
     ]
    }
   ],
   "source": [
    "my_vowels = [\"a\", \"e\", \"i\", \"o\", \"u\"]\n",
    "print(my_vowels)"
   ]
  },
  {
   "cell_type": "code",
   "execution_count": 23,
   "metadata": {},
   "outputs": [
    {
     "name": "stdout",
     "output_type": "stream",
     "text": [
      "['a', 'e']\n",
      "['i', 'o', 'u']\n"
     ]
    }
   ],
   "source": [
    "first_vowels = my_vowels[0:2]\n",
    "print(first_vowels)\n",
    "second_vowels = my_vowels[2:]\n",
    "print(second_vowels)"
   ]
  },
  {
   "cell_type": "code",
   "execution_count": 24,
   "metadata": {},
   "outputs": [
    {
     "data": {
      "text/plain": [
       "['a', 'e', 'i']"
      ]
     },
     "execution_count": 24,
     "metadata": {},
     "output_type": "execute_result"
    }
   ],
   "source": [
    "my_vowels[:3]"
   ]
  },
  {
   "cell_type": "code",
   "execution_count": 25,
   "metadata": {},
   "outputs": [
    {
     "data": {
      "text/plain": [
       "['i', 'o', 'u']"
      ]
     },
     "execution_count": 25,
     "metadata": {},
     "output_type": "execute_result"
    }
   ],
   "source": [
    "my_vowels[2:]"
   ]
  },
  {
   "cell_type": "code",
   "execution_count": 26,
   "metadata": {},
   "outputs": [
    {
     "data": {
      "text/plain": [
       "['a', 'e', 'i', 'o', 'u']"
      ]
     },
     "execution_count": 26,
     "metadata": {},
     "output_type": "execute_result"
    }
   ],
   "source": [
    "my_vowels[:]"
   ]
  },
  {
   "cell_type": "code",
   "execution_count": 27,
   "metadata": {},
   "outputs": [
    {
     "name": "stdout",
     "output_type": "stream",
     "text": [
      "['a', 'i', 'u']\n"
     ]
    }
   ],
   "source": [
    "print(my_vowels[::2])"
   ]
  },
  {
   "cell_type": "code",
   "execution_count": 36,
   "metadata": {},
   "outputs": [
    {
     "name": "stdout",
     "output_type": "stream",
     "text": [
      "['u', 'o', 'i']\n"
     ]
    },
    {
     "data": {
      "text/plain": [
       "['a', 'e', 'i', 'o']"
      ]
     },
     "execution_count": 36,
     "metadata": {},
     "output_type": "execute_result"
    }
   ],
   "source": [
    "print(my_vowels[4:1:-1])\n",
    "my_vowels[:-1]"
   ]
  },
  {
   "cell_type": "code",
   "execution_count": 41,
   "metadata": {},
   "outputs": [
    {
     "name": "stdout",
     "output_type": "stream",
     "text": [
      "['a', 'e', 'i', 'o', 'u', 'j', 'j', 'j', 'j', 'j']\n"
     ]
    }
   ],
   "source": [
    "my_vowels.append('j')\n",
    "print(my_vowels)"
   ]
  },
  {
   "cell_type": "code",
   "execution_count": 42,
   "metadata": {},
   "outputs": [
    {
     "name": "stdout",
     "output_type": "stream",
     "text": [
      "['a', 'e', 'i', 'o', 'u', 'j', 'j', 'j', 'j', 'j', 'k', 'l', 'm', 'n', 'o', 'p', 'q']\n"
     ]
    }
   ],
   "source": [
    "my_vowels.extend(['k', 'l', 'm', 'n', 'o', 'p', 'q'])\n",
    "print(my_vowels)"
   ]
  },
  {
   "cell_type": "code",
   "execution_count": 44,
   "metadata": {},
   "outputs": [],
   "source": [
    "del my_vowels[6:9]"
   ]
  },
  {
   "cell_type": "code",
   "execution_count": 45,
   "metadata": {},
   "outputs": [
    {
     "name": "stdout",
     "output_type": "stream",
     "text": [
      "['a', 'e', 'i', 'o', 'u', 'j', 'j', 'k', 'l', 'm', 'n', 'o', 'p', 'q']\n"
     ]
    }
   ],
   "source": [
    "print(my_vowels)"
   ]
  },
  {
   "cell_type": "code",
   "execution_count": 46,
   "metadata": {},
   "outputs": [
    {
     "name": "stdout",
     "output_type": "stream",
     "text": [
      "['a', 'e', 'i', 'o', 'u', 'j', 'k', 'l', 'm', 'n', 'o', 'p', 'q']\n"
     ]
    }
   ],
   "source": [
    "del my_vowels[6]\n",
    "print(my_vowels)"
   ]
  },
  {
   "cell_type": "code",
   "execution_count": 47,
   "metadata": {},
   "outputs": [],
   "source": [
    "my_vowels.sort()"
   ]
  },
  {
   "cell_type": "code",
   "execution_count": 48,
   "metadata": {},
   "outputs": [
    {
     "name": "stdout",
     "output_type": "stream",
     "text": [
      "['a', 'e', 'i', 'j', 'k', 'l', 'm', 'n', 'o', 'o', 'p', 'q', 'u']\n"
     ]
    }
   ],
   "source": [
    "print(my_vowels)"
   ]
  },
  {
   "cell_type": "code",
   "execution_count": 50,
   "metadata": {},
   "outputs": [
    {
     "name": "stdout",
     "output_type": "stream",
     "text": [
      "['a', 'e', 'i', 'j', 'k', 'l', 'm', 'n', 'o', 'p', 'q', 'u']\n"
     ]
    }
   ],
   "source": [
    "del my_vowels[-5]\n",
    "print(my_vowels)"
   ]
  },
  {
   "cell_type": "code",
   "execution_count": 51,
   "metadata": {},
   "outputs": [
    {
     "data": {
      "text/plain": [
       "'u'"
      ]
     },
     "execution_count": 51,
     "metadata": {},
     "output_type": "execute_result"
    }
   ],
   "source": [
    "my_vowels.pop(-1)"
   ]
  },
  {
   "cell_type": "code",
   "execution_count": 52,
   "metadata": {},
   "outputs": [
    {
     "name": "stdout",
     "output_type": "stream",
     "text": [
      "['a', 'e', 'i', 'j', 'k', 'l', 'm', 'n', 'o', 'p', 'q']\n"
     ]
    }
   ],
   "source": [
    "print(my_vowels)"
   ]
  },
  {
   "cell_type": "code",
   "execution_count": null,
   "metadata": {},
   "outputs": [],
   "source": []
  }
 ],
 "metadata": {
  "kernelspec": {
   "display_name": "Python 3",
   "language": "python",
   "name": "python3"
  },
  "language_info": {
   "codemirror_mode": {
    "name": "ipython",
    "version": 3
   },
   "file_extension": ".py",
   "mimetype": "text/x-python",
   "name": "python",
   "nbconvert_exporter": "python",
   "pygments_lexer": "ipython3",
   "version": "3.8.0"
  }
 },
 "nbformat": 4,
 "nbformat_minor": 4
}
